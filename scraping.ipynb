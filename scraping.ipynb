{
 "cells": [
  {
   "cell_type": "code",
   "execution_count": 1,
   "id": "cec7fa3c",
   "metadata": {},
   "outputs": [],
   "source": [
    "from selenium import webdriver\n",
    "from bs4 import BeautifulSoup\n",
    "import pandas as pd\n",
    "import time\n"
   ]
  },
  {
   "cell_type": "code",
   "execution_count": 2,
   "id": "b9c77b36",
   "metadata": {},
   "outputs": [],
   "source": [
    "url = \"https://classic.jobsearch.az/\""
   ]
  },
  {
   "cell_type": "code",
   "execution_count": 7,
   "id": "c5960c9b",
   "metadata": {},
   "outputs": [],
   "source": [
 
    "job_names = []\n",
    "company_names= []\n",
    "driver = webdriver.Edge()\n",
    "driver.get(url)\n",
    "time.sleep(5)\n",
    "for i in range(20):\n",
    "    driver.execute_script(\"window.scrollBy(0, 10000);\")\n",
    "    time.sleep(10)\n",
    "html = driver.page_source\n",
    "driver.quit()\n",
    "trainings_soup = BeautifulSoup(html,'html.parser')"
   ]
  },
  {
   "cell_type": "code",
   "execution_count": 8,
   "id": "ecf37f25",
   "metadata": {},
   "outputs": [],
   "source": [
    "job = trainings_soup.findAll('h2',attrs={\"class\":\"vacancies__title\"})\n",
    "for trainings_name in job:\n",
    "    job_names.append(trainings_name.text)\n",
    "work = trainings_soup.findAll('a',attrs={\"class\":\"vacancies__provided\"})\n",
    "for trainings_name in work:\n",
    "    company_names.append(trainings_name.text)"
   ]
  },
  {
   "cell_type": "code",
   "execution_count": 9,
   "id": "70c0118f",
   "metadata": {},
   "outputs": [],
   "source": [
    "jobdata = pd.DataFrame(job_names,columns=[\"Job_name\"])\n",
    "comdata = pd.DataFrame(company_names,columns=[\"Company_name\"])\n",
    "data = pd.concat([jobdata,comdata],axis=1)"
   ]
  },
  {
   "cell_type": "code",
   "execution_count": 10,
   "id": "ff0ff503",
   "metadata": {},
   "outputs": [
    {
     "data": {
      "text/plain": [
       "(1800, 2)"
      ]
     },
     "execution_count": 10,
     "metadata": {},
     "output_type": "execute_result"
    }
   ],
   "source": [
    "data.shape"
   ]
  },
  {
   "cell_type": "code",
   "execution_count": 11,
   "id": "1f52048c",
   "metadata": {},
   "outputs": [
    {
     "data": {
      "text/html": [
       "<div>\n",
       "<style scoped>\n",
       "    .dataframe tbody tr th:only-of-type {\n",
       "        vertical-align: middle;\n",
       "    }\n",
       "\n",
       "    .dataframe tbody tr th {\n",
       "        vertical-align: top;\n",
       "    }\n",
       "\n",
       "    .dataframe thead th {\n",
       "        text-align: right;\n",
       "    }\n",
       "</style>\n",
       "<table border=\"1\" class=\"dataframe\">\n",
       "  <thead>\n",
       "    <tr style=\"text-align: right;\">\n",
       "      <th></th>\n",
       "      <th>Job_name</th>\n",
       "      <th>Company_name</th>\n",
       "    </tr>\n",
       "  </thead>\n",
       "  <tbody>\n",
       "    <tr>\n",
       "      <th>0</th>\n",
       "      <td>Memar</td>\n",
       "      <td>\"Azərmemarlayihə\" Dövlət Baş Layihə İnstitutu</td>\n",
       "    </tr>\n",
       "    <tr>\n",
       "      <th>1</th>\n",
       "      <td>Yaradıcı memar</td>\n",
       "      <td>\"Azərmemarlayihə\" Dövlət Baş Layihə İnstitutu</td>\n",
       "    </tr>\n",
       "    <tr>\n",
       "      <th>2</th>\n",
       "      <td>Konstruktor</td>\n",
       "      <td>\"Azərmemarlayihə\" Dövlət Baş Layihə İnstitutu</td>\n",
       "    </tr>\n",
       "    <tr>\n",
       "      <th>3</th>\n",
       "      <td>Satış məsləhətçisi (Elektronika –Ağdaş)</td>\n",
       "      <td>ELIT.EO</td>\n",
       "    </tr>\n",
       "    <tr>\n",
       "      <th>4</th>\n",
       "      <td>B2B/ Xüsusi Əhəmiyyətli Şirkətlərə Satış üzrə...</td>\n",
       "      <td>T Telecom Company</td>\n",
       "    </tr>\n",
       "  </tbody>\n",
       "</table>\n",
       "</div>"
      ],
      "text/plain": [
       "                                            Job_name  \\\n",
       "0                                             Memar    \n",
       "1                                    Yaradıcı memar    \n",
       "2                                       Konstruktor    \n",
       "3           Satış məsləhətçisi (Elektronika –Ağdaş)    \n",
       "4   B2B/ Xüsusi Əhəmiyyətli Şirkətlərə Satış üzrə...   \n",
       "\n",
       "                                       Company_name  \n",
       "0    \"Azərmemarlayihə\" Dövlət Baş Layihə İnstitutu   \n",
       "1    \"Azərmemarlayihə\" Dövlət Baş Layihə İnstitutu   \n",
       "2    \"Azərmemarlayihə\" Dövlət Baş Layihə İnstitutu   \n",
       "3                                          ELIT.EO   \n",
       "4                                T Telecom Company   "
      ]
     },
     "execution_count": 11,
     "metadata": {},
     "output_type": "execute_result"
    }
   ],
   "source": [
    "data.head()"
   ]
  },
  {
   "cell_type": "code",
   "execution_count": 12,
   "id": "108fc9ff",
   "metadata": {
    "scrolled": true
   },
   "outputs": [
    {
     "data": {
      "text/html": [
       "<div>\n",
       "<style scoped>\n",
       "    .dataframe tbody tr th:only-of-type {\n",
       "        vertical-align: middle;\n",
       "    }\n",
       "\n",
       "    .dataframe tbody tr th {\n",
       "        vertical-align: top;\n",
       "    }\n",
       "\n",
       "    .dataframe thead th {\n",
       "        text-align: right;\n",
       "    }\n",
       "</style>\n",
       "<table border=\"1\" class=\"dataframe\">\n",
       "  <thead>\n",
       "    <tr style=\"text-align: right;\">\n",
       "      <th></th>\n",
       "      <th>Job_name</th>\n",
       "      <th>Company_name</th>\n",
       "    </tr>\n",
       "  </thead>\n",
       "  <tbody>\n",
       "    <tr>\n",
       "      <th>1795</th>\n",
       "      <td>Məlumat bazası və ödəniş sistemlərinə texniki...</td>\n",
       "      <td>Caspian Innovation Center</td>\n",
       "    </tr>\n",
       "    <tr>\n",
       "      <th>1796</th>\n",
       "      <td>Mağaza meneceri (Elektronika – İmişli)</td>\n",
       "      <td>ELIT.EO</td>\n",
       "    </tr>\n",
       "    <tr>\n",
       "      <th>1797</th>\n",
       "      <td>Internal Auditor</td>\n",
       "      <td>Amal Group</td>\n",
       "    </tr>\n",
       "    <tr>\n",
       "      <th>1798</th>\n",
       "      <td>Marketing Project Manager</td>\n",
       "      <td>C Company</td>\n",
       "    </tr>\n",
       "    <tr>\n",
       "      <th>1799</th>\n",
       "      <td>MEP üzrə mühəndis</td>\n",
       "      <td>A AZCD Group QSC</td>\n",
       "    </tr>\n",
       "  </tbody>\n",
       "</table>\n",
       "</div>"
      ],
      "text/plain": [
       "                                               Job_name  \\\n",
       "1795   Məlumat bazası və ödəniş sistemlərinə texniki...   \n",
       "1796            Mağaza meneceri (Elektronika – İmişli)    \n",
       "1797                                  Internal Auditor    \n",
       "1798                         Marketing Project Manager    \n",
       "1799                                 MEP üzrə mühəndis    \n",
       "\n",
       "                      Company_name  \n",
       "1795    Caspian Innovation Center   \n",
       "1796                      ELIT.EO   \n",
       "1797                   Amal Group   \n",
       "1798                    C Company   \n",
       "1799             A AZCD Group QSC   "
      ]
     },
     "execution_count": 12,
     "metadata": {},
     "output_type": "execute_result"
    }
   ],
   "source": [
    "data.tail()"
   ]
  },
  {
   "cell_type": "code",
   "execution_count": 13,
   "id": "7dce3212",
   "metadata": {},
   "outputs": [],
   "source": [
    "df = data.drop_duplicates()"
   ]
  },
  {
   "cell_type": "code",
   "execution_count": 18,
   "id": "79fd8937",
   "metadata": {},
   "outputs": [
    {
     "name": "stdout",
     "output_type": "stream",
     "text": [
      "orginal data: (1800, 2)\n",
      "drop dublicates: (1622, 2)\n"
     ]
    }
   ],
   "source": [
    "print('orginal data:',data.shape)\n",
    "print('drop dublicates:',df.shape)"
   ]
  },
  {
   "cell_type": "code",
   "execution_count": 22,
   "id": "6fb00272",
   "metadata": {},
   "outputs": [],
   "source": [
    "df.to_parquet('vacancies.parquet')"
   ]
  },
  {
   "cell_type": "code",
   "execution_count": 25,
   "id": "56254145",
   "metadata": {},
   "outputs": [
    {
     "data": {
      "text/html": [
       "<div>\n",
       "<style scoped>\n",
       "    .dataframe tbody tr th:only-of-type {\n",
       "        vertical-align: middle;\n",
       "    }\n",
       "\n",
       "    .dataframe tbody tr th {\n",
       "        vertical-align: top;\n",
       "    }\n",
       "\n",
       "    .dataframe thead th {\n",
       "        text-align: right;\n",
       "    }\n",
       "</style>\n",
       "<table border=\"1\" class=\"dataframe\">\n",
       "  <thead>\n",
       "    <tr style=\"text-align: right;\">\n",
       "      <th></th>\n",
       "      <th>Job_name</th>\n",
       "      <th>Company_name</th>\n",
       "    </tr>\n",
       "  </thead>\n",
       "  <tbody>\n",
       "    <tr>\n",
       "      <th>0</th>\n",
       "      <td>Memar</td>\n",
       "      <td>\"Azərmemarlayihə\" Dövlət Baş Layihə İnstitutu</td>\n",
       "    </tr>\n",
       "    <tr>\n",
       "      <th>1</th>\n",
       "      <td>Yaradıcı memar</td>\n",
       "      <td>\"Azərmemarlayihə\" Dövlət Baş Layihə İnstitutu</td>\n",
       "    </tr>\n",
       "    <tr>\n",
       "      <th>2</th>\n",
       "      <td>Konstruktor</td>\n",
       "      <td>\"Azərmemarlayihə\" Dövlət Baş Layihə İnstitutu</td>\n",
       "    </tr>\n",
       "    <tr>\n",
       "      <th>3</th>\n",
       "      <td>Satış məsləhətçisi (Elektronika –Ağdaş)</td>\n",
       "      <td>ELIT.EO</td>\n",
       "    </tr>\n",
       "    <tr>\n",
       "      <th>4</th>\n",
       "      <td>B2B/ Xüsusi Əhəmiyyətli Şirkətlərə Satış üzrə...</td>\n",
       "      <td>T Telecom Company</td>\n",
       "    </tr>\n",
       "    <tr>\n",
       "      <th>...</th>\n",
       "      <td>...</td>\n",
       "      <td>...</td>\n",
       "    </tr>\n",
       "    <tr>\n",
       "      <th>1794</th>\n",
       "      <td>Risklərin idarə olunması üzrə baş mütəxəssis</td>\n",
       "      <td>Azərpoçt</td>\n",
       "    </tr>\n",
       "    <tr>\n",
       "      <th>1795</th>\n",
       "      <td>Məlumat bazası və ödəniş sistemlərinə texniki...</td>\n",
       "      <td>Caspian Innovation Center</td>\n",
       "    </tr>\n",
       "    <tr>\n",
       "      <th>1796</th>\n",
       "      <td>Mağaza meneceri (Elektronika – İmişli)</td>\n",
       "      <td>ELIT.EO</td>\n",
       "    </tr>\n",
       "    <tr>\n",
       "      <th>1797</th>\n",
       "      <td>Internal Auditor</td>\n",
       "      <td>Amal Group</td>\n",
       "    </tr>\n",
       "    <tr>\n",
       "      <th>1798</th>\n",
       "      <td>Marketing Project Manager</td>\n",
       "      <td>C Company</td>\n",
       "    </tr>\n",
       "  </tbody>\n",
       "</table>\n",
       "<p>1622 rows × 2 columns</p>\n",
       "</div>"
      ],
      "text/plain": [
       "                                               Job_name  \\\n",
       "0                                                Memar    \n",
       "1                                       Yaradıcı memar    \n",
       "2                                          Konstruktor    \n",
       "3              Satış məsləhətçisi (Elektronika –Ağdaş)    \n",
       "4      B2B/ Xüsusi Əhəmiyyətli Şirkətlərə Satış üzrə...   \n",
       "...                                                 ...   \n",
       "1794      Risklərin idarə olunması üzrə baş mütəxəssis    \n",
       "1795   Məlumat bazası və ödəniş sistemlərinə texniki...   \n",
       "1796            Mağaza meneceri (Elektronika – İmişli)    \n",
       "1797                                  Internal Auditor    \n",
       "1798                         Marketing Project Manager    \n",
       "\n",
       "                                          Company_name  \n",
       "0       \"Azərmemarlayihə\" Dövlət Baş Layihə İnstitutu   \n",
       "1       \"Azərmemarlayihə\" Dövlət Baş Layihə İnstitutu   \n",
       "2       \"Azərmemarlayihə\" Dövlət Baş Layihə İnstitutu   \n",
       "3                                             ELIT.EO   \n",
       "4                                   T Telecom Company   \n",
       "...                                                ...  \n",
       "1794                                         Azərpoçt   \n",
       "1795                        Caspian Innovation Center   \n",
       "1796                                          ELIT.EO   \n",
       "1797                                       Amal Group   \n",
       "1798                                        C Company   \n",
       "\n",
       "[1622 rows x 2 columns]"
      ]
     },
     "execution_count": 25,
     "metadata": {},
     "output_type": "execute_result"
    }
   ],
   "source": [
    "pd.read_parquet('vacancies.parquet')"
   ]
  }
 ],
 "metadata": {
  "kernelspec": {
   "display_name": "Python 3 (ipykernel)",
   "language": "python",
   "name": "python3"
  },
  "language_info": {
   "codemirror_mode": {
    "name": "ipython",
    "version": 3
   },
   "file_extension": ".py",
   "mimetype": "text/x-python",
   "name": "python",
   "nbconvert_exporter": "python",
   "pygments_lexer": "ipython3",
   "version": "3.9.13"
  }
 },
 "nbformat": 4,
 "nbformat_minor": 5
}
